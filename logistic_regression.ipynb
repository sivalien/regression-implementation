{
 "cells": [
  {
   "cell_type": "markdown",
   "metadata": {},
   "source": [
    "Рассмотрим задачу бинарной классификации, пусть целевая переменная $y_i \\in \\{+1, -1\\}$  \n",
    "  \n",
    "Хотим предсказывать не класс нашего объекта, а вероятность, что он принадлежит к классу +1, то есть $f(x_i) = \\mathbb{P}(y_i = +1 | x_i)$  \n",
    "  \n",
    "Зададим функцию правдоподобия:\n",
    "\n",
    "$\\mathcal{L} = \\prod\\limits_{i=1}^{n}f(x_i)^{[y_i=+1]}(1-f(x_i))^{[y_i = -1]}$\n",
    "\n",
    "$-log\\mathcal{L} = -\\sum\\limits_{i=1}^{n}\\big(  [y_i=+1]logf(x) + [y_i=-1]log(1 - f(x)) \\big)$  \n",
    "  \n",
    "В качестве f возьмем сигмоиду:  \n",
    "\n",
    "$\\sigma(x) = \\dfrac{1}{1 + e^{-x}}$  \n",
    "  \n",
    "$f(x^i) = \\sigma(<x^i, \\omega>)$  \n",
    "  \n",
    "Получим: $log-loss = \\dfrac{1}{n}\\sum\\limits_{i=1}^{n}log(1 + e^{y^i<x^i, \\omega>})$  \n",
    "  \n",
    "$\\frac{\\partial (logloss)}{\\partial \\omega^j} = \\dfrac{1}{n}\\sum\\limits_{i=1}^{n}\\dfrac{y^i x^i_je^{y^i<x^i, \\omega>}}{1 + e^{y^i<x^i, \\omega>}} = \\dfrac{1}{n}\\sum\\limits_{i=1}^{n}y^i x^i_j\\sigma(-y^i<x^i, \\omega>)$"
   ]
  },
  {
   "cell_type": "code",
   "execution_count": 5,
   "metadata": {},
   "outputs": [],
   "source": [
    "import numpy as np"
   ]
  },
  {
   "cell_type": "code",
   "execution_count": 1,
   "metadata": {},
   "outputs": [],
   "source": [
    "def sigmoid(x):\n",
    "    return 1 / (1 + np.exp(-x))"
   ]
  },
  {
   "cell_type": "code",
   "execution_count": 4,
   "metadata": {},
   "outputs": [],
   "source": [
    "class LogReg():\n",
    "    \n",
    "    def __init__(self, batch_size=35, num_steps=350, lr=1e-2):\n",
    "        self.batch_size = batch_size\n",
    "        self.num_steps = num_steps\n",
    "        self.lr = lr\n",
    "\n",
    "    def fit(self, X, y):\n",
    "        w = np.random.randn(X.shape[1])[:, None]\n",
    "        n_objects = len(X)\n",
    "\n",
    "        for i in range(self.num_steps):\n",
    "            sample_indices = np.random.randint(0, n_objects, size=self.batch_size)\n",
    "            w -= self.lr * X[sample_indices].T @ (y[sample_indices] * sigmoid(X[sample_indices]@w * y[sample_indices]))\n",
    "\n",
    "        self.w = w\n",
    "        return self\n",
    "\n",
    "    def predict(self, X):\n",
    "        y_pred = sigmoid(X@self.w)\n",
    "        return (-1) * (y_pred < 0.5) + (y_pred >= 0.5)"
   ]
  }
 ],
 "metadata": {
  "interpreter": {
   "hash": "aee8b7b246df8f9039afb4144a1f6fd8d2ca17a180786b69acc140d282b71a49"
  },
  "kernelspec": {
   "display_name": "Python 3.7.3 64-bit",
   "language": "python",
   "name": "python3"
  },
  "language_info": {
   "codemirror_mode": {
    "name": "ipython",
    "version": 3
   },
   "file_extension": ".py",
   "mimetype": "text/x-python",
   "name": "python",
   "nbconvert_exporter": "python",
   "pygments_lexer": "ipython3",
   "version": "3.7.3"
  },
  "orig_nbformat": 4
 },
 "nbformat": 4,
 "nbformat_minor": 2
}
